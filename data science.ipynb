{
 "cells": [
  {
   "cell_type": "markdown",
   "id": "504dd2a9-f556-4e84-a1c6-322ab1570675",
   "metadata": {},
   "source": [
    "VANDITHA DSOUZA\n",
    "\n",
    "\n",
    "\n",
    "\n",
    "Iam intrested in data science because i love to gain insights from large sets of data\n"
   ]
  },
  {
   "cell_type": "markdown",
   "id": "2c2f0987-cfc8-408a-b012-b921749da3b4",
   "metadata": {},
   "source": [
    "THE BELOW CODE DISPLAYS THE ARITHMETIC OPERATIONS\n"
   ]
  },
  {
   "cell_type": "code",
   "execution_count": 2,
   "id": "6f70eba9-56fb-4d5d-a88b-7900f4e5ed7a",
   "metadata": {},
   "outputs": [
    {
     "name": "stdout",
     "output_type": "stream",
     "text": [
      "30\n",
      "10\n",
      "2.0\n",
      "200\n"
     ]
    }
   ],
   "source": [
    "a=10\n",
    "b=20\n",
    "print(a+b)\n",
    "print(b-a)\n",
    "print(b/a)\n",
    "print(a*b)"
   ]
  },
  {
   "cell_type": "markdown",
   "id": "f732f428-000d-47d0-ba97-11d5a29fb926",
   "metadata": {},
   "source": [
    "Creating a fuction\n"
   ]
  },
  {
   "cell_type": "code",
   "execution_count": 3,
   "id": "a49a3ed5-5ac2-41e0-aaab-4d1993049bc6",
   "metadata": {},
   "outputs": [
    {
     "name": "stdout",
     "output_type": "stream",
     "text": [
      "hello\n"
     ]
    }
   ],
   "source": [
    "def hello():\n",
    "    print(\"hello\")\n",
    "hello()"
   ]
  },
  {
   "cell_type": "markdown",
   "id": "67fc86d0-70db-4c2e-9a07-a7abe78e9385",
   "metadata": {},
   "source": [
    "- pasta\n",
    "- chocolates\n",
    "- soda"
   ]
  },
  {
   "cell_type": "code",
   "execution_count": null,
   "id": "825c84c5-740b-4432-ada0-09e0da64082c",
   "metadata": {},
   "outputs": [],
   "source": []
  }
 ],
 "metadata": {
  "kernelspec": {
   "display_name": "Python",
   "language": "python",
   "name": "conda-env-python-py"
  },
  "language_info": {
   "codemirror_mode": {
    "name": "ipython",
    "version": 3
   },
   "file_extension": ".py",
   "mimetype": "text/x-python",
   "name": "python",
   "nbconvert_exporter": "python",
   "pygments_lexer": "ipython3",
   "version": "3.7.10"
  }
 },
 "nbformat": 4,
 "nbformat_minor": 5
}
